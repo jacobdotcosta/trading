{
 "cells": [
  {
   "cell_type": "code",
   "execution_count": 3,
   "metadata": {},
   "outputs": [
    {
     "name": "stdout",
     "output_type": "stream",
     "text": [
      "yfinance.Ticker object <CABK.MC>\n",
      "                            Open   High    Low  Close    Volume  Dividends  \\\n",
      "Date                                                                         \n",
      "2025-04-15 00:00:00+02:00  6.724  6.938  6.708  6.854  12142047        0.0   \n",
      "2025-04-16 00:00:00+02:00  6.828  6.880  6.724  6.820   5901655        0.0   \n",
      "\n",
      "                           Stock Splits  \n",
      "Date                                     \n",
      "2025-04-15 00:00:00+02:00           0.0  \n",
      "2025-04-16 00:00:00+02:00           0.0  \n"
     ]
    }
   ],
   "source": [
    "import yfinance as yf\n",
    "import pandas as pd\n",
    "from pandas_datareader import data as pdr\n",
    "import datetime as dt\n",
    "import numpy as np\n",
    "\n",
    "# import quandl as q\n",
    "\n",
    "# print(\"Hello world\")\n",
    "# print(type(\"Hello world\"))\n",
    "\n",
    "# \n",
    "endDate = dt.datetime.now()\n",
    "startDate = endDate - dt.timedelta(days = 365*5)\n",
    "\n",
    "endDate, startDate\n",
    "\n",
    "# print (endDate)\n",
    "# stocks = ['MSFT', 'NVDA']\n",
    "# stocks = ['HMSB.DE', 'CABK.MC', 'OVH.PA', 'OMV.VI']\n",
    "symbol = 'CABK.MC'\n",
    "stocks = [symbol]\n",
    "\n",
    "stock = yf.Ticker(symbol)\n",
    "\n",
    "print (stock)\n",
    "\n",
    "hist = stock.history(period='2d')\n",
    "print (hist)\n",
    "stock_data = {}\n",
    "    \n",
    "if not hist.empty:\n",
    "    todays_lowest_price = hist['Close'].iloc[0]\n",
    "    latest_price = hist['Close'].iloc[-1]\n",
    "    previous_close = hist['Close'].iloc[-2] if len(hist['Close']) > 1 else latest_price\n",
    "    price_change = (latest_price - previous_close) / previous_close * 100\n",
    "    stock_data[symbol] = price_change"
   ]
  }
 ],
 "metadata": {
  "kernelspec": {
   "display_name": ".venv",
   "language": "python",
   "name": "python3"
  },
  "language_info": {
   "codemirror_mode": {
    "name": "ipython",
    "version": 3
   },
   "file_extension": ".py",
   "mimetype": "text/x-python",
   "name": "python",
   "nbconvert_exporter": "python",
   "pygments_lexer": "ipython3",
   "version": "3.13.2"
  }
 },
 "nbformat": 4,
 "nbformat_minor": 2
}
